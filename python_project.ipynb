{
 "cells": [
  {
   "cell_type": "markdown",
   "id": "f77b7fd0-a7ae-4b6f-b0ab-0049501a4e8e",
   "metadata": {},
   "source": [
    "pip install numpy"
   ]
  },
  {
   "cell_type": "code",
   "execution_count": 1,
   "id": "f6006c8b-ad86-4c23-953b-9d5c407c1400",
   "metadata": {},
   "outputs": [],
   "source": [
    "import numpy as np"
   ]
  },
  {
   "cell_type": "code",
   "execution_count": 2,
   "id": "97aefdbc-165e-4778-8a25-fc650a709e95",
   "metadata": {},
   "outputs": [
    {
     "name": "stdout",
     "output_type": "stream",
     "text": [
      "Requirement already satisfied: pandas in c:\\users\\intel\\appdata\\local\\programs\\python\\python312\\lib\\site-packages (2.2.1)\n",
      "Requirement already satisfied: numpy<2,>=1.26.0 in c:\\users\\intel\\appdata\\local\\programs\\python\\python312\\lib\\site-packages (from pandas) (1.26.3)\n",
      "Requirement already satisfied: python-dateutil>=2.8.2 in c:\\users\\intel\\appdata\\local\\programs\\python\\python312\\lib\\site-packages (from pandas) (2.8.2)\n",
      "Requirement already satisfied: pytz>=2020.1 in c:\\users\\intel\\appdata\\local\\programs\\python\\python312\\lib\\site-packages (from pandas) (2024.1)\n",
      "Requirement already satisfied: tzdata>=2022.7 in c:\\users\\intel\\appdata\\local\\programs\\python\\python312\\lib\\site-packages (from pandas) (2024.1)\n",
      "Requirement already satisfied: six>=1.5 in c:\\users\\intel\\appdata\\local\\programs\\python\\python312\\lib\\site-packages (from python-dateutil>=2.8.2->pandas) (1.16.0)\n",
      "Note: you may need to restart the kernel to use updated packages.\n"
     ]
    },
    {
     "name": "stderr",
     "output_type": "stream",
     "text": [
      "\n",
      "[notice] A new release of pip is available: 23.2.1 -> 24.0\n",
      "[notice] To update, run: python.exe -m pip install --upgrade pip\n"
     ]
    }
   ],
   "source": [
    "pip install pandas"
   ]
  },
  {
   "cell_type": "code",
   "execution_count": 3,
   "id": "35c55856-e47e-43e6-8421-63a85e6a5f13",
   "metadata": {},
   "outputs": [
    {
     "name": "stdout",
     "output_type": "stream",
     "text": [
      "Note: you may need to restart the kernel to use updated packages.Requirement already satisfied: seaborn in c:\\users\\intel\\appdata\\local\\programs\\python\\python312\\lib\\site-packages (0.13.2)\n",
      "Requirement already satisfied: numpy!=1.24.0,>=1.20 in c:\\users\\intel\\appdata\\local\\programs\\python\\python312\\lib\\site-packages (from seaborn) (1.26.3)\n",
      "Requirement already satisfied: pandas>=1.2 in c:\\users\\intel\\appdata\\local\\programs\\python\\python312\\lib\\site-packages (from seaborn) (2.2.1)\n",
      "Requirement already satisfied: matplotlib!=3.6.1,>=3.4 in c:\\users\\intel\\appdata\\local\\programs\\python\\python312\\lib\\site-packages (from seaborn) (3.8.4)\n",
      "Requirement already satisfied: contourpy>=1.0.1 in c:\\users\\intel\\appdata\\local\\programs\\python\\python312\\lib\\site-packages (from matplotlib!=3.6.1,>=3.4->seaborn) (1.2.1)\n",
      "Requirement already satisfied: cycler>=0.10 in c:\\users\\intel\\appdata\\local\\programs\\python\\python312\\lib\\site-packages (from matplotlib!=3.6.1,>=3.4->seaborn) (0.12.1)\n",
      "Requirement already satisfied: fonttools>=4.22.0 in c:\\users\\intel\\appdata\\local\\programs\\python\\python312\\lib\\site-packages (from matplotlib!=3.6.1,>=3.4->seaborn) (4.51.0)\n",
      "Requirement already satisfied: kiwisolver>=1.3.1 in c:\\users\\intel\\appdata\\local\\programs\\python\\python312\\lib\\site-packages (from matplotlib!=3.6.1,>=3.4->seaborn) (1.4.5)\n",
      "Requirement already satisfied: packaging>=20.0 in c:\\users\\intel\\appdata\\local\\programs\\python\\python312\\lib\\site-packages (from matplotlib!=3.6.1,>=3.4->seaborn) (23.2)\n",
      "Requirement already satisfied: pillow>=8 in c:\\users\\intel\\appdata\\local\\programs\\python\\python312\\lib\\site-packages (from matplotlib!=3.6.1,>=3.4->seaborn) (10.3.0)\n",
      "Requirement already satisfied: pyparsing>=2.3.1 in c:\\users\\intel\\appdata\\local\\programs\\python\\python312\\lib\\site-packages (from matplotlib!=3.6.1,>=3.4->seaborn) (3.1.2)\n",
      "Requirement already satisfied: python-dateutil>=2.7 in c:\\users\\intel\\appdata\\local\\programs\\python\\python312\\lib\\site-packages (from matplotlib!=3.6.1,>=3.4->seaborn) (2.8.2)\n",
      "Requirement already satisfied: pytz>=2020.1 in c:\\users\\intel\\appdata\\local\\programs\\python\\python312\\lib\\site-packages (from pandas>=1.2->seaborn) (2024.1)\n",
      "Requirement already satisfied: tzdata>=2022.7 in c:\\users\\intel\\appdata\\local\\programs\\python\\python312\\lib\\site-packages (from pandas>=1.2->seaborn) (2024.1)\n",
      "Requirement already satisfied: six>=1.5 in c:\\users\\intel\\appdata\\local\\programs\\python\\python312\\lib\\site-packages (from python-dateutil>=2.7->matplotlib!=3.6.1,>=3.4->seaborn) (1.16.0)\n",
      "\n"
     ]
    },
    {
     "name": "stderr",
     "output_type": "stream",
     "text": [
      "\n",
      "[notice] A new release of pip is available: 23.2.1 -> 24.0\n",
      "[notice] To update, run: python.exe -m pip install --upgrade pip\n"
     ]
    }
   ],
   "source": [
    "pip install seaborn"
   ]
  },
  {
   "cell_type": "code",
   "execution_count": 4,
   "id": "88891dbb-8c29-4d63-8dfb-4511bc039849",
   "metadata": {},
   "outputs": [],
   "source": [
    "import seaborn as sns "
   ]
  },
  {
   "cell_type": "code",
   "execution_count": 5,
   "id": "eba7a2b6-ca47-4aec-9ef0-301935ebd041",
   "metadata": {},
   "outputs": [],
   "source": [
    "import matplotlib.pyplot as plt"
   ]
  },
  {
   "cell_type": "code",
   "execution_count": 6,
   "id": "e7712645-f846-4509-a741-854c5b688ddf",
   "metadata": {},
   "outputs": [
    {
     "name": "stdout",
     "output_type": "stream",
     "text": [
      "Requirement already satisfied: openpyxl in c:\\users\\intel\\appdata\\local\\programs\\python\\python312\\lib\\site-packages (3.1.2)\n",
      "Requirement already satisfied: et-xmlfile in c:\\users\\intel\\appdata\\local\\programs\\python\\python312\\lib\\site-packages (from openpyxl) (1.1.0)\n"
     ]
    },
    {
     "name": "stderr",
     "output_type": "stream",
     "text": [
      "\n",
      "[notice] A new release of pip is available: 23.2.1 -> 24.0\n",
      "[notice] To update, run: python.exe -m pip install --upgrade pip\n"
     ]
    }
   ],
   "source": [
    "!pip install openpyxl"
   ]
  },
  {
   "cell_type": "code",
   "execution_count": 7,
   "id": "c6fbadb7-d704-46cb-a57d-56ab5602574f",
   "metadata": {},
   "outputs": [],
   "source": [
    "import pandas as pd"
   ]
  },
  {
   "cell_type": "code",
   "execution_count": 8,
   "id": "92146b05-8e2d-4652-9fd5-5bdb31f7a256",
   "metadata": {},
   "outputs": [
    {
     "data": {
      "text/html": [
       "<div>\n",
       "<style scoped>\n",
       "    .dataframe tbody tr th:only-of-type {\n",
       "        vertical-align: middle;\n",
       "    }\n",
       "\n",
       "    .dataframe tbody tr th {\n",
       "        vertical-align: top;\n",
       "    }\n",
       "\n",
       "    .dataframe thead th {\n",
       "        text-align: right;\n",
       "    }\n",
       "</style>\n",
       "<table border=\"1\" class=\"dataframe\">\n",
       "  <thead>\n",
       "    <tr style=\"text-align: right;\">\n",
       "      <th></th>\n",
       "      <th>Name</th>\n",
       "      <th>Team</th>\n",
       "      <th>Number</th>\n",
       "      <th>Position</th>\n",
       "      <th>Age</th>\n",
       "      <th>Height</th>\n",
       "      <th>Weight</th>\n",
       "      <th>College</th>\n",
       "      <th>Salary</th>\n",
       "    </tr>\n",
       "  </thead>\n",
       "  <tbody>\n",
       "    <tr>\n",
       "      <th>0</th>\n",
       "      <td>Avery Bradley</td>\n",
       "      <td>Boston Celtics</td>\n",
       "      <td>0</td>\n",
       "      <td>PG</td>\n",
       "      <td>25</td>\n",
       "      <td>2023-02-06 00:00:00</td>\n",
       "      <td>180</td>\n",
       "      <td>Texas</td>\n",
       "      <td>7730337.0</td>\n",
       "    </tr>\n",
       "    <tr>\n",
       "      <th>1</th>\n",
       "      <td>Jae Crowder</td>\n",
       "      <td>Boston Celtics</td>\n",
       "      <td>99</td>\n",
       "      <td>SF</td>\n",
       "      <td>25</td>\n",
       "      <td>2023-06-06 00:00:00</td>\n",
       "      <td>235</td>\n",
       "      <td>Marquette</td>\n",
       "      <td>6796117.0</td>\n",
       "    </tr>\n",
       "    <tr>\n",
       "      <th>2</th>\n",
       "      <td>John Holland</td>\n",
       "      <td>Boston Celtics</td>\n",
       "      <td>30</td>\n",
       "      <td>SG</td>\n",
       "      <td>27</td>\n",
       "      <td>2023-05-06 00:00:00</td>\n",
       "      <td>205</td>\n",
       "      <td>Boston University</td>\n",
       "      <td>NaN</td>\n",
       "    </tr>\n",
       "    <tr>\n",
       "      <th>3</th>\n",
       "      <td>R.J. Hunter</td>\n",
       "      <td>Boston Celtics</td>\n",
       "      <td>28</td>\n",
       "      <td>SG</td>\n",
       "      <td>22</td>\n",
       "      <td>2023-05-06 00:00:00</td>\n",
       "      <td>185</td>\n",
       "      <td>Georgia State</td>\n",
       "      <td>1148640.0</td>\n",
       "    </tr>\n",
       "    <tr>\n",
       "      <th>4</th>\n",
       "      <td>Jonas Jerebko</td>\n",
       "      <td>Boston Celtics</td>\n",
       "      <td>8</td>\n",
       "      <td>PF</td>\n",
       "      <td>29</td>\n",
       "      <td>2023-10-06 00:00:00</td>\n",
       "      <td>231</td>\n",
       "      <td>NaN</td>\n",
       "      <td>5000000.0</td>\n",
       "    </tr>\n",
       "    <tr>\n",
       "      <th>...</th>\n",
       "      <td>...</td>\n",
       "      <td>...</td>\n",
       "      <td>...</td>\n",
       "      <td>...</td>\n",
       "      <td>...</td>\n",
       "      <td>...</td>\n",
       "      <td>...</td>\n",
       "      <td>...</td>\n",
       "      <td>...</td>\n",
       "    </tr>\n",
       "    <tr>\n",
       "      <th>453</th>\n",
       "      <td>Shelvin Mack</td>\n",
       "      <td>Utah Jazz</td>\n",
       "      <td>8</td>\n",
       "      <td>PG</td>\n",
       "      <td>26</td>\n",
       "      <td>2023-03-06 00:00:00</td>\n",
       "      <td>203</td>\n",
       "      <td>Butler</td>\n",
       "      <td>2433333.0</td>\n",
       "    </tr>\n",
       "    <tr>\n",
       "      <th>454</th>\n",
       "      <td>Raul Neto</td>\n",
       "      <td>Utah Jazz</td>\n",
       "      <td>25</td>\n",
       "      <td>PG</td>\n",
       "      <td>24</td>\n",
       "      <td>2023-01-06 00:00:00</td>\n",
       "      <td>179</td>\n",
       "      <td>NaN</td>\n",
       "      <td>900000.0</td>\n",
       "    </tr>\n",
       "    <tr>\n",
       "      <th>455</th>\n",
       "      <td>Tibor Pleiss</td>\n",
       "      <td>Utah Jazz</td>\n",
       "      <td>21</td>\n",
       "      <td>C</td>\n",
       "      <td>26</td>\n",
       "      <td>2023-03-07 00:00:00</td>\n",
       "      <td>256</td>\n",
       "      <td>NaN</td>\n",
       "      <td>2900000.0</td>\n",
       "    </tr>\n",
       "    <tr>\n",
       "      <th>456</th>\n",
       "      <td>Jeff Withey</td>\n",
       "      <td>Utah Jazz</td>\n",
       "      <td>24</td>\n",
       "      <td>C</td>\n",
       "      <td>26</td>\n",
       "      <td>7-0</td>\n",
       "      <td>231</td>\n",
       "      <td>Kansas</td>\n",
       "      <td>947276.0</td>\n",
       "    </tr>\n",
       "    <tr>\n",
       "      <th>457</th>\n",
       "      <td>Priyanka</td>\n",
       "      <td>Utah Jazz</td>\n",
       "      <td>34</td>\n",
       "      <td>C</td>\n",
       "      <td>25</td>\n",
       "      <td>2023-03-07 00:00:00</td>\n",
       "      <td>231</td>\n",
       "      <td>Kansas</td>\n",
       "      <td>947276.0</td>\n",
       "    </tr>\n",
       "  </tbody>\n",
       "</table>\n",
       "<p>458 rows × 9 columns</p>\n",
       "</div>"
      ],
      "text/plain": [
       "              Name            Team  Number Position  Age               Height  \\\n",
       "0    Avery Bradley  Boston Celtics       0       PG   25  2023-02-06 00:00:00   \n",
       "1      Jae Crowder  Boston Celtics      99       SF   25  2023-06-06 00:00:00   \n",
       "2     John Holland  Boston Celtics      30       SG   27  2023-05-06 00:00:00   \n",
       "3      R.J. Hunter  Boston Celtics      28       SG   22  2023-05-06 00:00:00   \n",
       "4    Jonas Jerebko  Boston Celtics       8       PF   29  2023-10-06 00:00:00   \n",
       "..             ...             ...     ...      ...  ...                  ...   \n",
       "453   Shelvin Mack       Utah Jazz       8       PG   26  2023-03-06 00:00:00   \n",
       "454      Raul Neto       Utah Jazz      25       PG   24  2023-01-06 00:00:00   \n",
       "455   Tibor Pleiss       Utah Jazz      21        C   26  2023-03-07 00:00:00   \n",
       "456    Jeff Withey       Utah Jazz      24        C   26                  7-0   \n",
       "457       Priyanka       Utah Jazz      34        C   25  2023-03-07 00:00:00   \n",
       "\n",
       "     Weight            College     Salary  \n",
       "0       180              Texas  7730337.0  \n",
       "1       235          Marquette  6796117.0  \n",
       "2       205  Boston University        NaN  \n",
       "3       185      Georgia State  1148640.0  \n",
       "4       231                NaN  5000000.0  \n",
       "..      ...                ...        ...  \n",
       "453     203             Butler  2433333.0  \n",
       "454     179                NaN   900000.0  \n",
       "455     256                NaN  2900000.0  \n",
       "456     231             Kansas   947276.0  \n",
       "457     231             Kansas   947276.0  \n",
       "\n",
       "[458 rows x 9 columns]"
      ]
     },
     "execution_count": 8,
     "metadata": {},
     "output_type": "execute_result"
    }
   ],
   "source": [
    "Data = pd.read_excel(\"abcemployee.xlsx\")\n",
    "Data"
   ]
  },
  {
   "cell_type": "code",
   "execution_count": 13,
   "id": "41128a09-de97-47f2-966a-09d1effb871f",
   "metadata": {},
   "outputs": [
    {
     "name": "stdout",
     "output_type": "stream",
     "text": [
      "            Name            Team  Number Position  Age  Height  Weight  \\\n",
      "0  Avery Bradley  Boston Celtics       0       PG   25     164     180   \n",
      "1    Jae Crowder  Boston Celtics      99       SF   25     166     235   \n",
      "2   John Holland  Boston Celtics      30       SG   27     153     205   \n",
      "3    R.J. Hunter  Boston Celtics      28       SG   22     151     185   \n",
      "4  Jonas Jerebko  Boston Celtics       8       PF   29     176     231   \n",
      "\n",
      "             College     Salary  \n",
      "0              Texas  7730337.0  \n",
      "1          Marquette  6796117.0  \n",
      "2  Boston University        NaN  \n",
      "3      Georgia State  1148640.0  \n",
      "4                NaN  5000000.0  \n"
     ]
    }
   ],
   "source": [
    "Data['Height']=np.random.randint(150,181,size=(len(Data)))\n",
    "print(Data.head())\n",
    "data=pd.DataFrame(Data)\n",
    "data.to_excel('abcemployee.xlsx')"
   ]
  },
  {
   "cell_type": "code",
   "execution_count": 22,
   "id": "67186136-75e9-42b6-b6e3-2340ed532d93",
   "metadata": {},
   "outputs": [
    {
     "name": "stdout",
     "output_type": "stream",
     "text": [
      "how many are in each team: Team\n",
      "New Orleans Pelicans      19\n",
      "Memphis Grizzlies         18\n",
      "Utah Jazz                 16\n",
      "New York Knicks           16\n",
      "Milwaukee Bucks           16\n",
      "Brooklyn Nets             15\n",
      "Portland Trail Blazers    15\n",
      "Oklahoma City Thunder     15\n",
      "Denver Nuggets            15\n",
      "Washington Wizards        15\n",
      "Miami Heat                15\n",
      "Charlotte Hornets         15\n",
      "Atlanta Hawks             15\n",
      "San Antonio Spurs         15\n",
      "Houston Rockets           15\n",
      "Boston Celtics            15\n",
      "Indiana Pacers            15\n",
      "Detroit Pistons           15\n",
      "Cleveland Cavaliers       15\n",
      "Chicago Bulls             15\n",
      "Sacramento Kings          15\n",
      "Phoenix Suns              15\n",
      "Los Angeles Lakers        15\n",
      "Los Angeles Clippers      15\n",
      "Golden State Warriors     15\n",
      "Toronto Raptors           15\n",
      "Philadelphia 76ers        15\n",
      "Dallas Mavericks          15\n",
      "Orlando Magic             14\n",
      "Minnesota Timberwolves    14\n",
      "Name: count, dtype: int64\n",
      "percentage spliting with respect to total employees: Team\n",
      "New Orleans Pelicans      4.148472\n",
      "Memphis Grizzlies         3.930131\n",
      "Utah Jazz                 3.493450\n",
      "New York Knicks           3.493450\n",
      "Milwaukee Bucks           3.493450\n",
      "Brooklyn Nets             3.275109\n",
      "Portland Trail Blazers    3.275109\n",
      "Oklahoma City Thunder     3.275109\n",
      "Denver Nuggets            3.275109\n",
      "Washington Wizards        3.275109\n",
      "Miami Heat                3.275109\n",
      "Charlotte Hornets         3.275109\n",
      "Atlanta Hawks             3.275109\n",
      "San Antonio Spurs         3.275109\n",
      "Houston Rockets           3.275109\n",
      "Boston Celtics            3.275109\n",
      "Indiana Pacers            3.275109\n",
      "Detroit Pistons           3.275109\n",
      "Cleveland Cavaliers       3.275109\n",
      "Chicago Bulls             3.275109\n",
      "Sacramento Kings          3.275109\n",
      "Phoenix Suns              3.275109\n",
      "Los Angeles Lakers        3.275109\n",
      "Los Angeles Clippers      3.275109\n",
      "Golden State Warriors     3.275109\n",
      "Toronto Raptors           3.275109\n",
      "Philadelphia 76ers        3.275109\n",
      "Dallas Mavericks          3.275109\n",
      "Orlando Magic             3.056769\n",
      "Minnesota Timberwolves    3.056769\n",
      "Name: count, dtype: float64\n"
     ]
    }
   ],
   "source": [
    "#how many are in the each team and the percentage splitting with respect to the total employees\n",
    "Team_count=Data['Team'].value_counts()\n",
    "Split_percentage=(Team_count/len(Data)*100)\n",
    "print(\"how many are in each team:\" ,Team_count)\n",
    "print(\"percentage spliting with respect to total employees:\" ,Split_percentage)"
   ]
  },
  {
   "cell_type": "code",
   "execution_count": 20,
   "id": "449ba6b8-761b-4f81-940b-fe709160d001",
   "metadata": {},
   "outputs": [
    {
     "name": "stdout",
     "output_type": "stream",
     "text": [
      "segregate the employees w.r.t different positions: Position\n",
      "SG    102\n",
      "PF    100\n",
      "PG     92\n",
      "SF     85\n",
      "C      79\n",
      "Name: count, dtype: int64\n"
     ]
    }
   ],
   "source": [
    "#segregate the employees w.r.t different positions.\n",
    "Position_count=Data['Position'].value_counts()\n",
    "print(\"segregate the employees w.r.t different positions:\" ,Position_count)"
   ]
  },
  {
   "cell_type": "code",
   "execution_count": 32,
   "id": "4380db4e-83c8-4a21-b074-97c64757e6c1",
   "metadata": {},
   "outputs": [
    {
     "data": {
      "image/png": "[encoded data removed]",
      "text/plain": [
       "<Figure size 640x480 with 1 Axes>"
      ]
     },
     "metadata": {},
     "output_type": "display_data"
    }
   ],
   "source": [
    "#find from which age group most of the employees belong to\n",
    "plt.hist(Data['Age'],bins=10,edgecolor='black')\n",
    "plt.title('distribution chart')\n",
    "plt.xlabel('AGE')\n",
    "plt.ylabel('EMPLOYEES')\n",
    "plt.show()"
   ]
  },
  {
   "cell_type": "code",
   "execution_count": 61,
   "id": "5488eb0a-c070-4322-af00-622b89648a9e",
   "metadata": {},
   "outputs": [
    {
     "name": "stdout",
     "output_type": "stream",
     "text": [
      "team and position,spending in terms of salary is high: Team\n",
      "Atlanta Hawks              72902950.0\n",
      "Boston Celtics             58541068.0\n",
      "Brooklyn Nets              52528475.0\n",
      "Charlotte Hornets          78340920.0\n",
      "Chicago Bulls              86783378.0\n",
      "Cleveland Cavaliers       106988689.0\n",
      "Dallas Mavericks           71198732.0\n",
      "Denver Nuggets             60121930.0\n",
      "Detroit Pistons            67168263.0\n",
      "Golden State Warriors      88868997.0\n",
      "Houston Rockets            75283021.0\n",
      "Indiana Pacers             66751826.0\n",
      "Los Angeles Clippers       94854640.0\n",
      "Los Angeles Lakers         71770431.0\n",
      "Memphis Grizzlies          76550880.0\n",
      "Miami Heat                 82515673.0\n",
      "Milwaukee Bucks            69603517.0\n",
      "Minnesota Timberwolves     59709697.0\n",
      "New Orleans Pelicans       82750774.0\n",
      "New York Knicks            73303898.0\n",
      "Oklahoma City Thunder      93765298.0\n",
      "Orlando Magic              60161470.0\n",
      "Philadelphia 76ers         30992894.0\n",
      "Phoenix Suns               63445135.0\n",
      "Portland Trail Blazers     48301818.0\n",
      "Sacramento Kings           71683666.0\n",
      "San Antonio Spurs          84442733.0\n",
      "Toronto Raptors            71117611.0\n",
      "Utah Jazz                  64007367.0\n",
      "Washington Wizards         76328636.0\n",
      "Name: Salary, dtype: float64\n",
      "team and position,spending in terms of salary is high: Position\n",
      "C     466377332.0\n",
      "PF    442560850.0\n",
      "PG    446848971.0\n",
      "SF    408020976.0\n",
      "SG    396976258.0\n",
      "Name: Salary, dtype: float64\n"
     ]
    }
   ],
   "source": [
    "#find out under which team and position ,spending in terms of salary is high.\n",
    "Team_salary=Data.groupby('Team')['Salary'].sum()\n",
    "Position_salary=Data.groupby('Position')['Salary'].sum()\n",
    "print(\"team and position,spending in terms of salary is high:\" ,Team_salary)\n",
    "print(\"team and position,spending in terms of salary is high:\" ,Position_salary)\n",
    " \n"
   ]
  },
  {
   "cell_type": "code",
   "execution_count": 59,
   "id": "9e89c631-7447-488d-8cde-bc2644fd5eb0",
   "metadata": {},
   "outputs": [
    {
     "name": "stdout",
     "output_type": "stream",
     "text": [
      "correlation between age and salary: 0.21400941226570983\n"
     ]
    },
    {
     "data": {
      "image/png": "[encoded data removed]",
      "text/plain": [
       "<Figure size 640x480 with 1 Axes>"
      ]
     },
     "metadata": {},
     "output_type": "display_data"
    }
   ],
   "source": [
    "#find if any correlation b\\w age and salary,represent it visyally.\n",
    "correlation=Data['Age'].corr(Data['Salary'])\n",
    "print(\"correlation between age and salary:\", correlation)\n",
    "#create scatterplot\n",
    "sns.scatterplot(x='Age',y='Salary',data=Data)\n",
    "plt.xlabel(\"Age\")\n",
    "plt.ylabel(\"Salary\")\n",
    "plt.title(\"correlation between age and salary\")\n",
    "plt.show()"
   ]
  },
  {
   "cell_type": "code",
   "execution_count": null,
   "id": "5b1807a8-a3d7-4415-80ad-3a5a8e7d48a8",
   "metadata": {},
   "outputs": [],
   "source": []
  }
 ],
 "metadata": {
  "kernelspec": {
   "display_name": "Python 3 (ipykernel)",
   "language": "python",
   "name": "python3"
  },
  "language_info": {
   "codemirror_mode": {
    "name": "ipython",
    "version": 3
   },
   "file_extension": ".py",
   "mimetype": "text/x-python",
   "name": "python",
   "nbconvert_exporter": "python",
   "pygments_lexer": "ipython3",
   "version": "3.12.1"
  }
 },
 "nbformat": 4,
 "nbformat_minor": 5
}
